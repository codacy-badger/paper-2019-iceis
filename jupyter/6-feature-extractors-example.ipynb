{
 "cells": [
  {
   "cell_type": "markdown",
   "metadata": {},
   "source": [
    "### Includes\n",
    "\n",
    "Import libraries"
   ]
  },
  {
   "cell_type": "code",
   "execution_count": 1,
   "metadata": {
    "ExecuteTime": {
     "end_time": "2019-02-13T23:28:47.996386Z",
     "start_time": "2019-02-13T23:28:46.903282Z"
    }
   },
   "outputs": [],
   "source": [
    "%matplotlib inline\n",
    "import sys\n",
    "import time\n",
    "import math\n",
    "import seaborn as sns\n",
    "import matplotlib as mpl\n",
    "import matplotlib.pyplot as plt\n",
    "\n",
    "import scipy as sc\n",
    "import numpy as np\n",
    "import pandas as pd\n",
    "\n",
    "from statistics import mean, pstdev\n",
    "from sklearn.linear_model import LinearRegression\n",
    "\n",
    "mpl.style.use('seaborn-whitegrid')"
   ]
  },
  {
   "cell_type": "markdown",
   "metadata": {},
   "source": [
    "## Data\n",
    "\n",
    "Here we define the X and Y data.   \n",
    "Note the Y-axis represents the 'like' over time, so X-axis represents the time.   \n",
    "In this example, we represent the absence of the value in `t_3`."
   ]
  },
  {
   "cell_type": "code",
   "execution_count": 2,
   "metadata": {
    "ExecuteTime": {
     "end_time": "2019-02-13T23:28:48.480168Z",
     "start_time": "2019-02-13T23:28:47.999637Z"
    }
   },
   "outputs": [
    {
     "data": {
      "image/png": "[encoded data removed]",
      "text/plain": [
       "<Figure size 396x216 with 1 Axes>"
      ]
     },
     "metadata": {},
     "output_type": "display_data"
    }
   ],
   "source": [
    "# fictitious data\n",
    "X = [1, 2, 3,    4, 5, 6, 7]\n",
    "Y = [0, 1, None, 6, 6, 8, 9]\n",
    "\n",
    "# Plot define\n",
    "fontsize = 14\n",
    "width = 5.5\n",
    "height = 3\n",
    "\n",
    "# Plot the fictitious data\n",
    "fig, axis = plt.subplots()\n",
    "plt.plot(X, Y, marker='o')\n",
    "plt.ylabel('Like', fontsize=fontsize)\n",
    "plt.xlabel('Time', fontsize=fontsize)\n",
    "plt.xticks(X, [r'$t_{i}$'.format(i=i) for i in X])\n",
    "plt.tick_params(axis='both', which='major', labelsize=fontsize-1)\n",
    "fig.set_size_inches(width, height)\n",
    "plt.tight_layout()\n",
    "plt.show()"
   ]
  },
  {
   "cell_type": "markdown",
   "metadata": {},
   "source": [
    "## Feature Extractors\n",
    "\n",
    "1. Linear Regression (LR)\n",
    "2. Delta Rank (DR)\n",
    "3. Coefficient of Angle (CA)"
   ]
  },
  {
   "cell_type": "markdown",
   "metadata": {},
   "source": [
    "### 1. Linear Regression (LR) Extractor"
   ]
  },
  {
   "cell_type": "code",
   "execution_count": 3,
   "metadata": {
    "ExecuteTime": {
     "end_time": "2019-02-13T23:28:48.497368Z",
     "start_time": "2019-02-13T23:28:48.482876Z"
    }
   },
   "outputs": [],
   "source": [
    "# ------------------------------------------------\n",
    "# Simple Linear Regression Model\n",
    "# ------------------------------------------------\n",
    "class LeastSquares:\n",
    "    # Init the model\n",
    "    def __init__(self):\n",
    "        self._model = None\n",
    "    \n",
    "    \n",
    "    # Least Squares\n",
    "    #- X: X-axis values\n",
    "    #- Y: Y-axis values\n",
    "    #- return: None\n",
    "    def compute(self, X, Y):\n",
    "        alpha, beta = 0, 0\n",
    "        ran = range(len(X))\n",
    "        beta = sum([X[i]*Y[i] for i in ran]) - 1/len(X)*sum(X)*sum(Y)\n",
    "        beta = beta / (sum([X[i]*X[i] for i in ran]) - 1/len(X)*(sum(X)**2))\n",
    "        alpha = mean(Y) - beta*mean(X)\n",
    "        self._model = (alpha, beta)\n",
    "    \n",
    "    \n",
    "    # Prediction\n",
    "    #- x: x value\n",
    "    #- return: predicted y value\n",
    "    def predict(self, x):\n",
    "        alpha, beta = self._model\n",
    "        pred = alpha + beta*x\n",
    "        return pred\n",
    "    \n",
    "    \n",
    "    # Get Model\n",
    "    #- return: the model (alpha, beta)\n",
    "    def get_model(self):\n",
    "        alpha, beta = self._model\n",
    "        return (alpha, beta)"
   ]
  },
  {
   "cell_type": "code",
   "execution_count": 4,
   "metadata": {
    "ExecuteTime": {
     "end_time": "2019-02-13T23:28:48.682236Z",
     "start_time": "2019-02-13T23:28:48.501090Z"
    }
   },
   "outputs": [],
   "source": [
    "# ------------------------------------------------\n",
    "# Linear Regression (LR) Extractor\n",
    "# ------------------------------------------------\n",
    "class LR_Extractor:\n",
    "\n",
    "    # Init the model\n",
    "    def __init__(self):\n",
    "        self._model = LeastSquares()\n",
    "    \n",
    "    \n",
    "    # Extraction\n",
    "    #- X: X-axis values\n",
    "    #- Y: Y-axis values\n",
    "    #- return: model (LeastSquares),\n",
    "    #          R2, Angle (degrees)\n",
    "    def compute(self, X, Y):\n",
    "        X, Y = self._clean(X, Y)\n",
    "        # Least Squares\n",
    "        reg = LinearRegression().fit([[i] for i in X], Y)\n",
    "        self._model.compute(X, Y)\n",
    "        r2 = reg.score([[i] for i in X], Y)\n",
    "        # Angle in degrees\n",
    "        x = [X[0], X[len(X)-1]]\n",
    "        y = list(map(lambda a: reg.predict([[a]])[0], x))\n",
    "        radians = math.atan2(y[1]-y[0], x[1]-x[0])\n",
    "        degrees = math.degrees(radians)\n",
    "        # return\n",
    "        return self._model, r2, degrees\n",
    "    \n",
    "    \n",
    "    # Clean - remove None\n",
    "    #- X: X-axis values\n",
    "    #- Y: Y-axis values\n",
    "    #- return: X, Y\n",
    "    def _clean(self, X, Y):\n",
    "        x, y = [], []\n",
    "        for i in range(len(Y)):\n",
    "            if(Y[i] is not None):\n",
    "                x.append(X[i])\n",
    "                y.append(Y[i])\n",
    "        return x, y"
   ]
  },
  {
   "cell_type": "code",
   "execution_count": 5,
   "metadata": {
    "ExecuteTime": {
     "end_time": "2019-02-13T23:28:49.163547Z",
     "start_time": "2019-02-13T23:28:48.687871Z"
    }
   },
   "outputs": [
    {
     "data": {
      "image/png": "[encoded data removed]",
      "text/plain": [
       "<Figure size 396x216 with 1 Axes>"
      ]
     },
     "metadata": {},
     "output_type": "display_data"
    },
    {
     "name": "stdout",
     "output_type": "stream",
     "text": [
      "- LR Extractor example\n",
      "model: (-1.5217391304347831, 1.565217391304348)\n",
      "R2   : 0.9668\n",
      "angle: 57.43o\n"
     ]
    }
   ],
   "source": [
    "# LR Extractor\n",
    "extractor = LR_Extractor()\n",
    "model, r2, degrees = extractor.compute(X, Y)\n",
    "line = [X[0], X[-1]]\n",
    "\n",
    "# Plot\n",
    "fig, axis = plt.subplots()\n",
    "plt.plot(X, Y, marker='o')\n",
    "plt.plot(line, [model.predict(x) for x in line], color='r')\n",
    "plt.ylabel('Like', fontsize=fontsize)\n",
    "plt.xlabel('Time', fontsize=fontsize)\n",
    "plt.xticks(X, [r'$t_{i}$'.format(i=i) for i in X])\n",
    "plt.tick_params(axis='both', which='major', labelsize=fontsize-1)\n",
    "fig.set_size_inches(width, height)\n",
    "plt.tight_layout()\n",
    "plt.show()\n",
    "\n",
    "# Print\n",
    "print('- LR Extractor example')\n",
    "print('model: {!r}'.format(model.get_model()))\n",
    "print('R2   : {:.4f}'.format(r2))\n",
    "print('angle: {:.2f}o'.format(degrees))"
   ]
  },
  {
   "cell_type": "markdown",
   "metadata": {},
   "source": [
    "### Delta Rank (DR) Extractor"
   ]
  },
  {
   "cell_type": "code",
   "execution_count": 6,
   "metadata": {
    "ExecuteTime": {
     "end_time": "2019-02-13T23:28:49.179564Z",
     "start_time": "2019-02-13T23:28:49.170795Z"
    }
   },
   "outputs": [],
   "source": [
    "# ------------------------------------------------\n",
    "# Delta Rank (DR) Extractor\n",
    "# ------------------------------------------------\n",
    "class DR_Extractor:\n",
    "\n",
    "    # Init the model\n",
    "    def __init__(self):\n",
    "        self._D = None\n",
    "\n",
    "    # Extraction\n",
    "    #- X: X-axis values\n",
    "    #- Y: Y-axis values\n",
    "    #- return: D, entropy(D)\n",
    "    def compute(self, X, Y):\n",
    "        idx, last = 0, len(Y)-1\n",
    "        self._D = []\n",
    "        while idx < last:\n",
    "            # exist keys? (in range)\n",
    "            nxt = idx + 1\n",
    "            if Y[nxt] is not None and Y[idx] is not None in Y:\n",
    "                delta = Y[nxt] - Y[idx]\n",
    "                self._D.append(delta)\n",
    "            idx += 1\n",
    "        return self._D, self._entropy(self._D)\n",
    "\n",
    "    # Entropy\n",
    "    #- values: list of values\n",
    "    def _entropy(self, values):\n",
    "        serie = pd.Series(values)\n",
    "        p_data = serie.value_counts() / len(serie)  # calculates the probabilities\n",
    "        score = sc.stats.entropy(p_data)  # input probabilities to get the entropy\n",
    "        return score"
   ]
  },
  {
   "cell_type": "code",
   "execution_count": 7,
   "metadata": {
    "ExecuteTime": {
     "end_time": "2019-02-13T23:28:49.748170Z",
     "start_time": "2019-02-13T23:28:49.184949Z"
    }
   },
   "outputs": [
    {
     "data": {
      "image/png": "[encoded data removed]",
      "text/plain": [
       "<Figure size 396x216 with 1 Axes>"
      ]
     },
     "metadata": {},
     "output_type": "display_data"
    },
    {
     "name": "stdout",
     "output_type": "stream",
     "text": [
      "- DR Extractor example\n",
      "Deltas: [1, 0, 2, 1]\n",
      "entropy(D): 1.0397207708399179\n"
     ]
    }
   ],
   "source": [
    "# DR Extractor\n",
    "extractor = DR_Extractor()\n",
    "D, S_D = extractor.compute(X, Y)\n",
    "\n",
    "# Plot\n",
    "fig, axis = plt.subplots()\n",
    "plt.plot(X, Y, marker='o')\n",
    "\n",
    "idx, last = 0, len(Y)-1\n",
    "i = 1\n",
    "while idx < last:\n",
    "    nxt = idx + 1\n",
    "    if Y[nxt] is not None and Y[idx] is not None in Y:\n",
    "        x = X[idx]+(X[nxt]-X[idx])/2.0\n",
    "        y = Y[idx]+(Y[nxt]-Y[idx])/2.0\n",
    "        plt.scatter(x, y, color='r')\n",
    "        axis.text(x, y+0.5, r'$\\Delta_{i}$'.format(i=i), fontsize=fontsize-1)\n",
    "        i += 1\n",
    "    idx += 1\n",
    "\n",
    "plt.ylabel('Like', fontsize=fontsize)\n",
    "plt.xlabel('Time', fontsize=fontsize)\n",
    "plt.xticks(X, [r'$t_{i}$'.format(i=i) for i in X])\n",
    "plt.tick_params(axis='both', which='major', labelsize=fontsize-1)\n",
    "fig.set_size_inches(width, height)\n",
    "plt.tight_layout()\n",
    "plt.show()\n",
    "\n",
    "# Print\n",
    "print('- DR Extractor example')\n",
    "print('Deltas:', D)\n",
    "print('entropy(D):', S_D)"
   ]
  },
  {
   "cell_type": "markdown",
   "metadata": {},
   "source": [
    "### Coefficient of Angle (CA) Extractor"
   ]
  },
  {
   "cell_type": "code",
   "execution_count": 8,
   "metadata": {
    "ExecuteTime": {
     "end_time": "2019-02-13T23:28:49.764467Z",
     "start_time": "2019-02-13T23:28:49.754793Z"
    }
   },
   "outputs": [],
   "source": [
    "# ------------------------------------------------\n",
    "# Coefficient of Angle (CA) Extractor\n",
    "# ------------------------------------------------\n",
    "class CA_Extractor:\n",
    "\n",
    "    # Init the model\n",
    "    def __init__(self):\n",
    "        self._T = None\n",
    "\n",
    "    # Extraction\n",
    "    #- X: X-axis values\n",
    "    #- Y: Y-axis values\n",
    "    #- return: T\n",
    "    def compute(self, X, Y):\n",
    "        idx, last = 0, len(Y)-1\n",
    "        self._T = []\n",
    "        while idx < last:\n",
    "            # exist keys? (in range)\n",
    "            nxt = idx + 1\n",
    "            if Y[nxt] is not None and Y[idx] is not None in Y:\n",
    "                delta = Y[nxt] - Y[idx]\n",
    "                radians = math.atan2(delta, 1)\n",
    "                degrees = math.degrees(radians)\n",
    "                self._T.append(degrees)\n",
    "            idx += 1\n",
    "        return self._T"
   ]
  },
  {
   "cell_type": "code",
   "execution_count": 9,
   "metadata": {
    "ExecuteTime": {
     "end_time": "2019-02-13T23:28:50.253297Z",
     "start_time": "2019-02-13T23:28:49.767521Z"
    }
   },
   "outputs": [
    {
     "data": {
      "image/png": "[encoded data removed]",
      "text/plain": [
       "<Figure size 396x216 with 1 Axes>"
      ]
     },
     "metadata": {},
     "output_type": "display_data"
    },
    {
     "name": "stdout",
     "output_type": "stream",
     "text": [
      "- CA Extractor example\n",
      "Theta: [45.0, 0.0, 63.43494882292201, 45.0]\n"
     ]
    }
   ],
   "source": [
    "# CA Extractor\n",
    "extractor = CA_Extractor()\n",
    "T = extractor.compute(X, Y)\n",
    "\n",
    "# Plot\n",
    "fig, axis = plt.subplots()\n",
    "plt.plot(X, Y, marker='o')\n",
    "\n",
    "idx, last = 0, len(Y)-1\n",
    "i = 1\n",
    "while idx < last:\n",
    "    nxt = idx + 1\n",
    "    if Y[nxt] is not None and Y[idx] is not None in Y:\n",
    "        x = X[idx]+(X[nxt]-X[idx])/2.0\n",
    "        y = Y[idx]+(Y[nxt]-Y[idx])/2.0\n",
    "        plt.scatter(x, y, color='r')\n",
    "        axis.text(x, y+0.5, r'$\\theta_{i}$'.format(i=i), fontsize=fontsize-1)\n",
    "        i += 1\n",
    "    idx += 1\n",
    "\n",
    "plt.ylabel('Like', fontsize=fontsize)\n",
    "plt.xlabel('Time', fontsize=fontsize)\n",
    "plt.xticks(X, [r'$t_{i}$'.format(i=i) for i in X])\n",
    "plt.tick_params(axis='both', which='major', labelsize=fontsize-1)\n",
    "fig.set_size_inches(width, height)\n",
    "plt.tight_layout()\n",
    "plt.show()\n",
    "\n",
    "# Print\n",
    "print('- CA Extractor example')\n",
    "print('Theta:', T)"
   ]
  },
  {
   "cell_type": "code",
   "execution_count": null,
   "metadata": {},
   "outputs": [],
   "source": []
  }
 ],
 "metadata": {
  "kernelspec": {
   "display_name": "Python 3",
   "language": "python",
   "name": "python3"
  },
  "language_info": {
   "codemirror_mode": {
    "name": "ipython",
    "version": 3
   },
   "file_extension": ".py",
   "mimetype": "text/x-python",
   "name": "python",
   "nbconvert_exporter": "python",
   "pygments_lexer": "ipython3",
   "version": "3.6.5"
  },
  "varInspector": {
   "cols": {
    "lenName": 16,
    "lenType": 16,
    "lenVar": 40
   },
   "kernels_config": {
    "python": {
     "delete_cmd_postfix": "",
     "delete_cmd_prefix": "del ",
     "library": "var_list.py",
     "varRefreshCmd": "print(var_dic_list())"
    },
    "r": {
     "delete_cmd_postfix": ") ",
     "delete_cmd_prefix": "rm(",
     "library": "var_list.r",
     "varRefreshCmd": "cat(var_dic_list()) "
    }
   },
   "types_to_exclude": [
    "module",
    "function",
    "builtin_function_or_method",
    "instance",
    "_Feature"
   ],
   "window_display": false
  }
 },
 "nbformat": 4,
 "nbformat_minor": 2
}
