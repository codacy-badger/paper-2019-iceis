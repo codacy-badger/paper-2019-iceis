{
 "cells": [
  {
   "cell_type": "markdown",
   "metadata": {},
   "source": [
    "### Includes\n",
    "Here are the import all the libraries"
   ]
  },
  {
   "cell_type": "code",
   "execution_count": 1,
   "metadata": {
    "ExecuteTime": {
     "end_time": "2019-02-13T23:32:14.449400Z",
     "start_time": "2019-02-13T23:32:13.406167Z"
    }
   },
   "outputs": [],
   "source": [
    "%matplotlib inline\n",
    "import sys\n",
    "import time\n",
    "import math\n",
    "import seaborn as sns\n",
    "import matplotlib as mpl\n",
    "import matplotlib.pyplot as plt\n",
    "\n",
    "import scipy as sc\n",
    "import numpy as np\n",
    "import pandas as pd\n",
    "from sklearn.linear_model import LinearRegression\n",
    "\n",
    "mpl.style.use('seaborn-whitegrid')"
   ]
  },
  {
   "cell_type": "markdown",
   "metadata": {},
   "source": [
    "## Data"
   ]
  },
  {
   "cell_type": "code",
   "execution_count": 2,
   "metadata": {
    "ExecuteTime": {
     "end_time": "2019-02-13T23:32:14.456385Z",
     "start_time": "2019-02-13T23:32:14.452226Z"
    }
   },
   "outputs": [],
   "source": [
    "# data\n",
    "x = [1, 2, 3, 4, 5, 6, 7]\n",
    "y = [0, 1, 4, 6, 6, 7, 7]\n",
    "\n",
    "# Plot define\n",
    "fontsize = 15\n",
    "width = 5.5\n",
    "height = 3\n",
    "lim_y = 10\n",
    "\n",
    "color = '#a13639'\n",
    "xtick = r'$t_{%d}$'"
   ]
  },
  {
   "cell_type": "markdown",
   "metadata": {},
   "source": [
    "### Linear Regression (LR) Extractor"
   ]
  },
  {
   "cell_type": "code",
   "execution_count": 3,
   "metadata": {
    "ExecuteTime": {
     "end_time": "2019-02-13T23:32:14.609699Z",
     "start_time": "2019-02-13T23:32:14.463523Z"
    }
   },
   "outputs": [],
   "source": [
    "# Linear Regression\n",
    "def linear_regression(X, Y):\n",
    "    reg = LinearRegression().fit([[i] for i in X], Y)\n",
    "    r2 = reg.score([[i] for i in X], Y)\n",
    "    ## degrees\n",
    "    x = [X[0], X[len(X)-1]]\n",
    "    y = list(map(lambda a: reg.predict([[a]])[0], x))\n",
    "    radians = math.atan2(y[1]-y[0], x[1]-x[0])\n",
    "    degrees = math.degrees(radians)   \n",
    "    return x, y, r2, degrees"
   ]
  },
  {
   "cell_type": "markdown",
   "metadata": {},
   "source": [
    "### Coefficient of Angle (CA) Extractor"
   ]
  },
  {
   "cell_type": "code",
   "execution_count": 4,
   "metadata": {
    "ExecuteTime": {
     "end_time": "2019-02-13T23:32:14.765374Z",
     "start_time": "2019-02-13T23:32:14.612081Z"
    }
   },
   "outputs": [],
   "source": [
    "# Coefficient of Angle\n",
    "def coefficient_angle(X, Y):\n",
    "    first = min(X)\n",
    "    last = max(X)\n",
    "    coefficients = []\n",
    "    while first < last:\n",
    "        # exist keys? (in range)\n",
    "        next = first + 1\n",
    "        if first in X and next in X:\n",
    "            radians = math.atan2(Y[X.index(next)]-Y[X.index(first)], 1)\n",
    "            degrees = math.degrees(radians)\n",
    "            coefficients.append(degrees)\n",
    "        first += 1\n",
    "    return coefficients\n",
    "\n",
    "# Entropy\n",
    "def entropy(data):\n",
    "    serie = pd.Series(data)\n",
    "    p_data = serie.value_counts() / len(serie)  # calculates the probabilities\n",
    "    score = sc.stats.entropy(p_data)  # input probabilities to get the entropy\n",
    "    return score"
   ]
  },
  {
   "cell_type": "markdown",
   "metadata": {},
   "source": [
    "### Delta Rank (DR) Extractor"
   ]
  },
  {
   "cell_type": "code",
   "execution_count": 5,
   "metadata": {
    "ExecuteTime": {
     "end_time": "2019-02-13T23:32:14.883623Z",
     "start_time": "2019-02-13T23:32:14.767931Z"
    }
   },
   "outputs": [],
   "source": [
    "# Delta Rank\n",
    "def delta_rank(X, Y):\n",
    "    first = min(X)\n",
    "    last = max(X)\n",
    "    deltas = []\n",
    "    while first < last:\n",
    "        # exist keys? (in range)\n",
    "        next = first + 1\n",
    "        if first in X and next in X:\n",
    "            delta = Y[X.index(next)] - Y[X.index(first)]\n",
    "            deltas.append(delta)\n",
    "        first += 1\n",
    "    return deltas"
   ]
  },
  {
   "cell_type": "code",
   "execution_count": 6,
   "metadata": {
    "ExecuteTime": {
     "end_time": "2019-02-13T23:32:15.051032Z",
     "start_time": "2019-02-13T23:32:14.885992Z"
    }
   },
   "outputs": [],
   "source": [
    "# Plot Basic\n",
    "# -extractor = 1: LR\n",
    "# -extractor = 2: CA\n",
    "# -extractor = 3: DR\n",
    "def plot_line(x, y, title, extractor=1):\n",
    "    # Plotting Graphs\n",
    "    fig, axis = plt.subplots()\n",
    "    p1 = plt.plot(x, y)\n",
    "    p2 = plt.scatter(x, y)\n",
    "    describes=False\n",
    "    \n",
    "    # ex\n",
    "    if(extractor == 1):\n",
    "        lr = linear_regression(x, y)\n",
    "        p3 = plt.plot(lr[0], lr[1], color=color)\n",
    "        y = y + lr[1]\n",
    "        describes = [('$\\measuredangle_c$', '%.2f$^{o}$', lr[3]),\n",
    "                     ('$R^2_c$', '%.2f', lr[2])]\n",
    "    elif(extractor == 3):\n",
    "        ca = coefficient_angle(x, y)\n",
    "        describes = []\n",
    "        for i in range(len(ca)):\n",
    "            describes.append((r'$\\theta_{%d}$' % (i+1), r'%2.1f$^{o}$', ca[i]))\n",
    "            xi = x[i] + (x[i+1] - x[i])/2\n",
    "            yi = y[i] + (y[i+1] - y[i])/2\n",
    "            plt.text(xi-0.25, yi+0.4, r'$\\theta_{%d}$' % (i+1), fontsize=fontsize-1)\n",
    "    else:\n",
    "        dr = delta_rank(x, y)\n",
    "        high = 0\n",
    "        idx_high = 0\n",
    "        describes = [('$S_D$', '%.2f', entropy(dr))]\n",
    "        for i in range(len(dr)):\n",
    "            describes.append((r'$\\Delta_{%d}$' % (i+1), '%d', dr[i]))\n",
    "            xi = x[i] + (x[i+1] - x[i])/2\n",
    "            yi = y[i] + (y[i+1] - y[i])/2\n",
    "            plt.text(xi-0.3, yi+0.45, r'$\\Delta_{%d}$' % (i+1), fontsize=fontsize-1)\n",
    "            if dr[i] > high: # identify the high\n",
    "                high = dr[i]\n",
    "                idx_high = i\n",
    "        # high delta\n",
    "        p3 = plt.plot(x[idx_high:idx_high+2], y[idx_high:idx_high+2], color=color)\n",
    "    \n",
    "    if(describes):\n",
    "        xpos = 1.25\n",
    "        ypos = 0.01\n",
    "        for desc in describes:\n",
    "            text, form, value = desc\n",
    "            axis.text(\n",
    "                xpos,\n",
    "                ypos, (r'%s: ' + form) % (text, value),\n",
    "                verticalalignment='bottom',\n",
    "                horizontalalignment='right',\n",
    "                transform=axis.transAxes,\n",
    "                fontsize=fontsize - 3)\n",
    "            ypos += 0.11\n",
    "    # -- ticks\n",
    "    plt.ylabel('Stars', fontsize=fontsize)\n",
    "    plt.xlabel('Time', fontsize=fontsize)\n",
    "    plt.ylim(-0.3, lim_y) # fixed by example data\n",
    "    plt.xticks(x, [xtick%i for i in x])\n",
    "    plt.yticks(range(0, lim_y+1, 2), range(0, lim_y+1, 2))\n",
    "    # -- legend\n",
    "    if(extractor == 1):\n",
    "        plt.legend((p2, p3[0]), ('Stars', 'LR'), loc='upper left', bbox_to_anchor=(1, 1), fontsize=fontsize-1)\n",
    "    else:\n",
    "        plt.legend((p2, ), ('Stars',), loc='upper left', bbox_to_anchor=(1, 1), fontsize=fontsize-1)\n",
    "    plt.text(1, 9, '%s' % title, fontsize=fontsize-1)\n",
    "    plt.tick_params(axis='both', which='major', labelsize=fontsize-1)\n",
    "    # -- sizes\n",
    "    fig.set_size_inches(width, height)\n",
    "    plt.tight_layout()\n",
    "    #plt.savefig('plot%s.pdf' % title, dpi=300)\n",
    "    plt.show()\n",
    "    \n",
    "    if(extractor == 1):\n",
    "        return 'R2 = %.4f' % lr[2], 'degree = %.4f' % lr[3]\n",
    "    elif(extractor == 2):\n",
    "        return 'delta', 'S = %.4f' % entropy(dr), dr\n",
    "    else:\n",
    "        return 'angle', ca"
   ]
  },
  {
   "cell_type": "code",
   "execution_count": 7,
   "metadata": {
    "ExecuteTime": {
     "end_time": "2019-02-13T23:32:16.140875Z",
     "start_time": "2019-02-13T23:32:15.053719Z"
    }
   },
   "outputs": [
    {
     "data": {
      "image/png": "[encoded data removed]",
      "text/plain": [
       "<Figure size 396x216 with 1 Axes>"
      ]
     },
     "metadata": {},
     "output_type": "display_data"
    },
    {
     "data": {
      "text/plain": [
       "('R2 = 0.8800', 'degree = 51.3402')"
      ]
     },
     "execution_count": 7,
     "metadata": {},
     "output_type": "execute_result"
    }
   ],
   "source": [
    "plot_line(x, y, 'Linear Regression', extractor=1)"
   ]
  },
  {
   "cell_type": "code",
   "execution_count": 8,
   "metadata": {
    "ExecuteTime": {
     "end_time": "2019-02-13T23:32:17.014115Z",
     "start_time": "2019-02-13T23:32:16.144227Z"
    }
   },
   "outputs": [
    {
     "data": {
      "image/png": "[encoded data removed]",
      "text/plain": [
       "<Figure size 396x216 with 1 Axes>"
      ]
     },
     "metadata": {},
     "output_type": "display_data"
    },
    {
     "data": {
      "text/plain": [
       "('delta', 'S = 1.3297', [1, 3, 2, 0, 1, 0])"
      ]
     },
     "execution_count": 8,
     "metadata": {},
     "output_type": "execute_result"
    }
   ],
   "source": [
    "plot_line(x, y, 'Delta Rank', extractor=2)"
   ]
  },
  {
   "cell_type": "code",
   "execution_count": 9,
   "metadata": {
    "ExecuteTime": {
     "end_time": "2019-02-13T23:32:17.930713Z",
     "start_time": "2019-02-13T23:32:17.019226Z"
    }
   },
   "outputs": [
    {
     "data": {
      "image/png": "[encoded data removed]",
      "text/plain": [
       "<Figure size 396x216 with 1 Axes>"
      ]
     },
     "metadata": {},
     "output_type": "display_data"
    },
    {
     "data": {
      "text/plain": [
       "('angle', [45.0, 71.56505117707799, 63.43494882292201, 0.0, 45.0, 0.0])"
      ]
     },
     "execution_count": 9,
     "metadata": {},
     "output_type": "execute_result"
    }
   ],
   "source": [
    "plot_line(x, y, 'Coefficient of Angle', extractor=3)"
   ]
  },
  {
   "cell_type": "code",
   "execution_count": null,
   "metadata": {},
   "outputs": [],
   "source": []
  }
 ],
 "metadata": {
  "kernelspec": {
   "display_name": "Python 3",
   "language": "python",
   "name": "python3"
  },
  "language_info": {
   "codemirror_mode": {
    "name": "ipython",
    "version": 3
   },
   "file_extension": ".py",
   "mimetype": "text/x-python",
   "name": "python",
   "nbconvert_exporter": "python",
   "pygments_lexer": "ipython3",
   "version": "3.6.5"
  },
  "varInspector": {
   "cols": {
    "lenName": 16,
    "lenType": 16,
    "lenVar": 40
   },
   "kernels_config": {
    "python": {
     "delete_cmd_postfix": "",
     "delete_cmd_prefix": "del ",
     "library": "var_list.py",
     "varRefreshCmd": "print(var_dic_list())"
    },
    "r": {
     "delete_cmd_postfix": ") ",
     "delete_cmd_prefix": "rm(",
     "library": "var_list.r",
     "varRefreshCmd": "cat(var_dic_list()) "
    }
   },
   "types_to_exclude": [
    "module",
    "function",
    "builtin_function_or_method",
    "instance",
    "_Feature"
   ],
   "window_display": false
  }
 },
 "nbformat": 4,
 "nbformat_minor": 2
}
