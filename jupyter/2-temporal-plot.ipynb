{
 "cells": [
  {
   "cell_type": "markdown",
   "metadata": {},
   "source": [
    "### Includes\n",
    "Here are the import all the libraries"
   ]
  },
  {
   "cell_type": "code",
   "execution_count": 1,
   "metadata": {
    "ExecuteTime": {
     "end_time": "2019-02-13T23:20:54.711769Z",
     "start_time": "2019-02-13T23:20:53.996182Z"
    }
   },
   "outputs": [],
   "source": [
    "%matplotlib inline\n",
    "import sys\n",
    "import time\n",
    "import math\n",
    "import seaborn as sns\n",
    "import matplotlib as mpl\n",
    "import matplotlib.pyplot as plt\n",
    "\n",
    "mpl.style.use('seaborn-whitegrid')"
   ]
  },
  {
   "cell_type": "markdown",
   "metadata": {},
   "source": [
    "## Data"
   ]
  },
  {
   "cell_type": "code",
   "execution_count": 2,
   "metadata": {
    "ExecuteTime": {
     "end_time": "2019-02-13T23:20:54.717451Z",
     "start_time": "2019-02-13T23:20:54.713992Z"
    }
   },
   "outputs": [],
   "source": [
    "# data\n",
    "c1 = [1, 1, 1, 1]\n",
    "c2 = [0, 1, 1, 2]\n",
    "c3 = [1, 1, 2, 2]\n",
    "c4 = [0, 1, 2]\n",
    "\n",
    "x1 = [1, 2, 3, 4]\n",
    "x4 = [2, 3, 4]"
   ]
  },
  {
   "cell_type": "markdown",
   "metadata": {},
   "source": [
    "#### Plot Function"
   ]
  },
  {
   "cell_type": "code",
   "execution_count": 3,
   "metadata": {
    "ExecuteTime": {
     "end_time": "2019-02-13T23:20:54.949335Z",
     "start_time": "2019-02-13T23:20:54.719952Z"
    }
   },
   "outputs": [],
   "source": [
    "fontsize = 16\n",
    "width = 3.5\n",
    "height = 2\n",
    "\n",
    "color = 'blue'\n",
    "xtick = [r'$t_{i}$', r'$t_{i+1}$', r'$t_{i+2}$', r'$t_{i+3}$']\n",
    "\n",
    "def plot_line(x, y, title):\n",
    "    # Plotting Graphs\n",
    "    fig, axis = plt.subplots()\n",
    "    p1 = plt.plot(x, y)\n",
    "    p2 = plt.scatter(x, y, s=20*4)\n",
    "\n",
    "    plt.ylabel('Stars', fontsize=fontsize)\n",
    "    plt.xlabel('Time', fontsize=fontsize)\n",
    "    #plt.title('Course' % (title), fontsize=fontsize)\n",
    "\n",
    "    plt.ylim(-0.2, 2.2)\n",
    "    plt.xlim(0.9, 4.1)\n",
    "    plt.yticks(range(3))\n",
    "    plt.xticks([1, 2, 3, 4], xtick)\n",
    "    \n",
    "    #plt.legend((p2,), (r'$%s$' % title, ), loc='upper left', fontsize=fontsize-1)\n",
    "    plt.text(1.0, 1.6, r'$%s$' % title, fontsize=fontsize-1)\n",
    "    plt.tick_params(axis='both', which='major', labelsize=fontsize-1)\n",
    "    \n",
    "    fig.set_size_inches(width, height)\n",
    "    plt.tight_layout()\n",
    "    #plt.savefig('star-stream-%s.pdf' % (title), dpi=300)\n",
    "    plt.show()"
   ]
  },
  {
   "cell_type": "code",
   "execution_count": 4,
   "metadata": {
    "ExecuteTime": {
     "end_time": "2019-02-13T23:20:56.682986Z",
     "start_time": "2019-02-13T23:20:54.951406Z"
    }
   },
   "outputs": [
    {
     "data": {
      "image/png": "[encoded data removed]",
      "text/plain": [
       "<Figure size 252x144 with 1 Axes>"
      ]
     },
     "metadata": {},
     "output_type": "display_data"
    },
    {
     "data": {
      "image/png": "[encoded data removed]",
      "text/plain": [
       "<Figure size 252x144 with 1 Axes>"
      ]
     },
     "metadata": {},
     "output_type": "display_data"
    },
    {
     "data": {
      "image/png": "[encoded data removed]",
      "text/plain": [
       "<Figure size 252x144 with 1 Axes>"
      ]
     },
     "metadata": {},
     "output_type": "display_data"
    },
    {
     "data": {
      "image/png": "[encoded data removed]",
      "text/plain": [
       "<Figure size 252x144 with 1 Axes>"
      ]
     },
     "metadata": {},
     "output_type": "display_data"
    }
   ],
   "source": [
    "plot_line(x1, c1, 'c_1')\n",
    "plot_line(x1, c2, 'c_2')\n",
    "plot_line(x1, c3, 'c_3')\n",
    "plot_line(x4, c4, 'c_4')"
   ]
  },
  {
   "cell_type": "code",
   "execution_count": null,
   "metadata": {},
   "outputs": [],
   "source": []
  }
 ],
 "metadata": {
  "kernelspec": {
   "display_name": "Python 3",
   "language": "python",
   "name": "python3"
  },
  "language_info": {
   "codemirror_mode": {
    "name": "ipython",
    "version": 3
   },
   "file_extension": ".py",
   "mimetype": "text/x-python",
   "name": "python",
   "nbconvert_exporter": "python",
   "pygments_lexer": "ipython3",
   "version": "3.6.5"
  },
  "varInspector": {
   "cols": {
    "lenName": 16,
    "lenType": 16,
    "lenVar": 40
   },
   "kernels_config": {
    "python": {
     "delete_cmd_postfix": "",
     "delete_cmd_prefix": "del ",
     "library": "var_list.py",
     "varRefreshCmd": "print(var_dic_list())"
    },
    "r": {
     "delete_cmd_postfix": ") ",
     "delete_cmd_prefix": "rm(",
     "library": "var_list.r",
     "varRefreshCmd": "cat(var_dic_list()) "
    }
   },
   "types_to_exclude": [
    "module",
    "function",
    "builtin_function_or_method",
    "instance",
    "_Feature"
   ],
   "window_display": false
  }
 },
 "nbformat": 4,
 "nbformat_minor": 2
}
